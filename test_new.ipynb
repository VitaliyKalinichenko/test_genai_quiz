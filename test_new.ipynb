{
 "cells": [
  {
   "cell_type": "markdown",
   "metadata": {},
   "source": [
    "**Duration:** 1 week\n",
    "\n",
    "# Objectives\n",
    "\n",
    "Deepen the understanding of LLMs, prompting, and GenAI foundations\n",
    "\n",
    "Provide an overview of key AI assistants and their capabilities\n",
    "\n",
    "Provide first practical prompting exercises\n",
    "\n",
    "Conduct a mid-week call to gather feedback and assess learning pace and quality"
   ]
  },
  {
   "cell_type": "markdown",
   "metadata": {},
   "source": [
    "# Weekly Breakdown"
   ]
  },
  {
   "cell_type": "markdown",
   "metadata": {},
   "source": [
    "## Step 1: Deepening the Basics\n",
    "\n",
    "**Duration:** 2 days\n",
    "\n",
    "**Goal:** Build a clear understanding of what LLMs are, how GenAI works, and what prompting is"
   ]
  },
  {
   "cell_type": "markdown",
   "metadata": {},
   "source": [
    "### Required Materials\n",
    "\n",
    "[Generative AI for QC Engineers Curriculum](https://softserve.csod.com/ui/lms-learning-details/app/curriculum/51c09d8d-82d0-4ae7-aa0f-b9bbf685bad6) (~3 hour review)\n",
    "\n",
    "[Generative AI for TA & SET Engineers Curriculum](https://softserve.csod.com/ui/lms-learning-details/app/curriculum/1a0ec61b-50ef-4278-be20-907e5e390270) (~3 hour review)\n",
    "\n",
    "[GEN AI Prompting for Software Testers Handbook](https://softserveinc.sharepoint.com/sites/QualityManagementOffice/SitePages/AI-Prompting-for-Software-Testers.aspx?ct=1747065887226&or=Teams-HL&ga=1&LOF=1&xsdata=MDV8MDJ8fDU4NTdkYTAxMjIzZDRjOGViN2ZjMDhkZDkyMDM2MTEyfDZjNTFjNjU5OWQ1MjQxYWY4MWY3ZGRlMTYzODBlODEzfDB8MHw2Mzg4MjcyNjUzNjc2NTIzNDh8VW5rbm93bnxWR1ZoYlhOVFpXTjFjbWwwZVZObGNuWnBZMlY4ZXlKV0lqb2lNQzR3TGpBd01EQWlMQ0pRSWpvaVYybHVNeklpTENKQlRpSTZJazkwYUdWeUlpd2lWMVFpT2pFeGZRPT18MXxMM1JsWVcxekx6RTVPbkJEYzAwd04yUkdhR3B6VUZGaGRHMDBWR1J2ZVdsdk5WZHBORkZ6YTFKVVJ6Rk5NSFp1WkRkcWFFRXhRSFJvY21WaFpDNTBZV04yTWk5amFHRnVibVZzY3k4eE9UcHdRM05OTURka1JtaHFjMUJSWVhSdE5GUmtiM2xwYnpWWGFUUlJjMnRTVkVjeFRUQjJibVEzYW1oQk1VQjBhSEpsWVdRdWRHRmpkakl2YldWemMyRm5aWE12TVRjME56RXlPVGN6TlRjNE9BPT18YmU2NmZmYTliMTExNDNkNGI3ZmMwOGRkOTIwMzYxMTJ8MWRlNmNiZjc1Y2Y2NDJhMDgyY2E3ZDJhYjQ3ODRlYzA%3D&sdata=RFFNYXlzWk4rS2lSL2h3ZnJoM3lUN0ZTcUU4ZFBHQU83QWlhbytwV0NMcz0%3D&ovuser=6c51c659-9d52-41af-81f7-dde16380e813%2Cvkalini%40softserveinc.com&OR=Teams-HL&CT=1750000656104&clickparams=eyJBcHBOYW1lIjoiVGVhbXMtRGVza3RvcCIsIkFwcFZlcnNpb24iOiI0OS8yNTA1MTgwMDIxOSJ9) (~2 hours, focus on sections 5, 6, 7 - techniques and frameworks)\n",
    "\n",
    "[Realize Your Potential: SoftServe motivational](https://softserve.csod.com/LMS/Video/LaunchVideo.aspx?loid=6a00af4e-7b5d-41e2-9b77-2d02ebe47450) piece (~1 hour)"
   ]
  },
  {
   "cell_type": "markdown",
   "metadata": {},
   "source": [
    "### Activities\n",
    "\n",
    "1. Individual prompt exercises\n",
    "\n",
    "2. Group discussion call covering:\n",
    "\n",
    "   What makes a good prompt?\n",
    "   \n",
    "   Understanding different AI assistants"
   ]
  },
  {
   "cell_type": "markdown",
   "metadata": {},
   "source": [
    "### Deliverables\n",
    "\n",
    "Completed discussion call with all participants\n",
    "\n",
    "Submitted rewritten prompts from exercises"
   ]
  },
  {
   "cell_type": "markdown",
   "metadata": {},
   "source": [
    "## Step 2: Mid-week Check-in Call\n",
    "\n",
    "**Duration:** ~45 minutes (Day 5)\n",
    "\n",
    "**Goal:** Sync with all participants, gather feedback, discuss difficulties, adjust approach if needed"
   ]
  },
  {
   "cell_type": "markdown",
   "metadata": {},
   "source": [
    "### Format\n",
    "\n",
    "Live call (Zoom/MS Teams) with open Q&A\n",
    "\n",
    "Short reflection from each participant (2-3 bullet points) on how their understanding has changed\n",
    "\n",
    "Group discussion on tool differences\n",
    "\n",
    "Meeting notes documenting next steps or needed adjustments"
   ]
  },
  {
   "cell_type": "markdown",
   "metadata": {},
   "source": [
    "### Deliverables\n",
    "\n",
    "Summary of feedback and action items for remaining week"
   ]
  },
  {
   "cell_type": "markdown",
   "metadata": {},
   "source": [
    "## Step 3: Tools Exploration\n",
    "\n",
    "**Duration:** 2 days\n",
    "\n",
    "**Goal:** Understand current GenAI tools, how they differ, and when to use them"
   ]
  },
  {
   "cell_type": "markdown",
   "metadata": {},
   "source": [
    "### Required Materials\n",
    "\n",
    "[Video: \"ChatGPT vs Claude vs Gemini: The Best AI for Each Use Case in 2025\"](https://www.youtube.com/watch?v=YgvL0dA_2Pg) (~21 minutes)\n",
    "\n",
    "[Video: \"Don't Waste Your Money: Which AI Upgrade Is ACTUALLY Worth It?\"](https://www.youtube.com/watch?v=7vrfs8507E4) (~15 minutes)\n",
    "\n",
    "[LLMs - Comparison & Investigation.xlsx](https://softserveinc.sharepoint.com/:x:/r/sites/SDLC-ProductivityBoost/_layouts/15/Doc.aspx?sourcedoc=%7BAA77F7F3-C481-449C-B327-C08C67447C36%7D&file=LLMs%20-%20Comparison%20%26%20Investigation.xlsx&action=default&mobileredirect=true&wdOrigin=TEAMS-MAGLEV.p2p_ns.rwc&wdExp=TEAMS-TREATMENT&wdhostclicktime=1739548374875&web=1&ovuser=6c51c659-9d52-41af-81f7-dde16380e813%2Cyhlad%40softserveinc.com&clickparams=eyJBcHBOYW1lIjoiVGVhbXMtRGVza3RvcCIsIkFwcFZlcnNpb24iOiI1MC8yNTAxMDYyMDQxMCIsIkhhc0ZlZGVyYXRlZFVzZXIiOmZhbHNlfQ%3D%3D) (~30 minutes structured review)\n",
    "\n",
    "[Gen AI Productivity Boost - Toolset](https://softserveinc.sharepoint.com/sites/GenerativeAI-ProductivityBoostinSDLC/Lists/Use%20Case%20Library/AllItems.aspx) (~30 minutes reading)\n",
    "\n",
    "[Gen AI Productivity Boost - Task Library](https://softserveinc.sharepoint.com/sites/GenerativeAI-ProductivityBoostinSDLC/Lists/Task%20Library/AllItems.aspx) (~30 minutes browsing)\n",
    "\n",
    "[QMO Office365 Tools Research Docs](https://softserveinc.sharepoint.com/sites/qmoteamoffice365/Shared%20Documents/Forms/AllItems.aspx?id=%2Fsites%2Fqmoteamoffice365%2FShared%20Documents%2F%5FStrategic%20Goals%2FEfficiency%20and%20Productivity%2FGenerative%20AI%2FTools%20research&sortField=Modified&isAscending=false&viewid=1e817e27%2D3c18%2D426e%2Db2a1%2D705348ee07a1) (~30-45 minutes)\n",
    "\n",
    "[Toolset Usage Policy](https://softserveinc.sharepoint.com/sites/GenerativeAI-ProductivityBoostinSDLC/SitePages/Toolset-Usage-Policy.aspx?csf=1&web=1&e=3d8Eej&CID=1d8b5b0f-907b-46d0-89ba-ede5cedd62cc) (~15-20 minutes)"
   ]
  },
  {
   "cell_type": "markdown",
   "metadata": {},
   "source": [
    "### Activities\n",
    "\n",
    "1. **Hands-on Exercise:** Each group selects a tool, finds a relevant use case from the Use Case Library, and writes one practical prompt for it\n",
    "\n",
    "2. **Policy Review:** Review the Toolset Usage Policy and identify key takeaways"
   ]
  },
  {
   "cell_type": "markdown",
   "metadata": {},
   "source": [
    "### Deliverables\n",
    "\n",
    "Completed understanding of different AI tools and assistants\n",
    "\n",
    "Demonstrated ability to construct and write effective prompts\n",
    "\n",
    "Policy compliance notes highlighting key concerns and guidelines"
   ]
  },
  {
   "cell_type": "markdown",
   "metadata": {},
   "source": [
    "# Summary\n",
    "\n",
    "By the end of Week 2, participants should have a solid foundation in LLM fundamentals, practical prompting skills, familiarity with major AI tools, and clear understanding of usage policies and best practices."
   ]
  }
 ],
 "metadata": {
  "kernelspec": {
   "display_name": "Python 3",
   "language": "python",
   "name": "python3"
  },
  "language_info": {
   "codemirror_mode": {
    "name": "ipython",
    "version": 3
   },
   "file_extension": ".py",
   "mimetype": "text/x-python",
   "name": "python",
   "nbconvert_exporter": "python",
   "pygments_lexer": "ipython3",
   "version": "3.8.5"
  }
 },
 "nbformat": 4,
 "nbformat_minor": 4
}
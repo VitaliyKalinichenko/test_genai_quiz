{
 "cells": [
  {
   "cell_type": "markdown",
   "id": "ba4f968d",
   "metadata": {},
   "source": [
    "# PROMPTING FUNDAMENTALS\n"
   ]
  },
  {
   "cell_type": "markdown",
   "id": "7c136608",
   "metadata": {},
   "source": [
    "PROMPTING FUNDAMENTALS:\n",
    "\n",
    "Prompt Engineering Tutorial – Master ChatGPT and LLM Responses (part of Curriculum):"
   ]
  },
  {
   "cell_type": "markdown",
   "id": "6387dc27",
   "metadata": {},
   "source": [
    "Introduction to prompt engineering from OpenAI (part of Curriculum):"
   ]
  },
  {
   "cell_type": "markdown",
   "id": "40e76975",
   "metadata": {},
   "source": [
    "Advanced prompt engineering (part of Curriculum):"
   ]
  },
  {
   "cell_type": "markdown",
   "id": "804a9aa9",
   "metadata": {},
   "source": [
    "Handbook: Actual sections: 5,6,7 (techniques and frameworks)\n",
    "\n",
    "Prompts (basic):\n",
    "\n",
    "\n",
    "Frameworks(basic):\n",
    "\n",
    "\n",
    "Deep research, reasoning, fine tunning, models (optional):\n",
    "\n",
    "\n",
    "Prompt Library (optional):"
   ]
  }
 ],
 "metadata": {},
 "nbformat": 4,
 "nbformat_minor": 5
}

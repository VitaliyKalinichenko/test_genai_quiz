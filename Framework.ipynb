{
 "cells": [
  {
   "cell_type": "markdown",
   "metadata": {},
   "source": [
    "# Prompting Frameworks: Complete Guide"
   ]
  },
  {
   "cell_type": "markdown",
   "metadata": {},
   "source": [
    "## What is a Framework in Prompting Context?\n",
    "\n",
    "A **framework** is a coordinated thinking system or set of principles + structure that helps create effective prompts for language models."
   ]
  },
  {
   "cell_type": "markdown",
   "metadata": {},
   "source": [
    "## Framework vs Concrete Template\n",
    "\n",
    "### 🔍 Template\n",
    "- **Fixed text** with specific formulations\n",
    "- Example: \"You are a QA analyst. Create a test case...\"\n",
    "\n",
    "### 🧠 Framework  \n",
    "- **Methodology for building templates**\n",
    "- A system of questions and principles for creating effective prompts"
   ]
  },
  {
   "cell_type": "markdown",
   "metadata": {},
   "source": [
    "## Key Framework Components\n",
    "\n",
    "| Component | Purpose |\n",
    "|-----------|----------|\n",
    "| 🎭 **Role** | Defines who performs the task (model persona) |\n",
    "| 🎯 **Goal** | What needs to be done |\n",
    "| 📦 **Context** | Where to get data/information for response |\n",
    "| 🚫 **Constraints** | What's not allowed or mandatory (scope, style, language) |\n",
    "| 📄 **Output Format** | How to format the response (table, JSON, list, steps, etc.) |\n",
    "| ⚙️ **Mechanics** | Techniques: clarifications, chain of thought, examples (few-shot) |"
   ]
  },
  {
   "cell_type": "markdown",
   "metadata": {},
   "source": [
    "## Popular Framework Examples\n",
    "\n",
    "There are currently over 30 of the most commonly used frameworks. However, they all follow the same underlying logic and structure."
   ]
  },
  {
   "cell_type": "markdown",
   "metadata": {},
   "source": [
    "### ReAct Framework\n",
    "**Components:** Reason + Act\n",
    "\n",
    "**Example Prompt:** \"You are troubleshooting a login failure. First, think aloud about potential causes (Reason). Then, write 3 test scenarios that would help isolate the issue (Act).\"\n",
    "\n",
    "**Why it works:** This framework promotes analytical thinking and connects theoretical understanding with practical testing actions, making it particularly valuable for debugging and root cause analysis."
   ]
  },
  {
   "cell_type": "markdown",
   "metadata": {},
   "source": [
    "### C.R.A.F.T. Framework\n",
    "**Components:** Context + Role + Action + Format + Target Audience\n",
    "\n",
    "**Example Prompt:** \"Context: A login system that supports 2FA Role: You are a senior manual tester Action: Write test scenarios for authentication flow Format: Markdown bullet points Target Audience: Junior QC engineers in training\"\n",
    "\n",
    "**Why it works:** The C.R.A.F.T. framework provides comprehensive context and clear role definition, resulting in highly relevant and appropriately formatted testing content."
   ]
  },
  {
   "cell_type": "markdown",
   "metadata": {},
   "source": [
    "### RISEN Framework\n",
    "**Components:** Role + Instructions + Steps + Expectation + Narrowing\n",
    "\n",
    "**Example:** \"Role: You are a senior QC engineer specializing in user flows and edge-case analysis. Instructions: Generate a list of edge-case test scenarios for a password reset form in a banking web application. Steps: 1. Identify inputs typically used in password reset. 2. Consider unusual, invalid, or rare input values. 3. Describe what the system should do in response to each case. Expectation: The output should include at least 5 edge-case scenarios, each in bullet-point format with a short expected result. Narrowing: Exclude scenarios related to UI layout or styling. Focus only on input data, error handling, and backend validation.\"\n",
    "\n",
    "**Why it works:** The RISEN framework provides clear process guidance and scope definition, resulting in focused and immediately applicable testing scenarios."
   ]
  },
  {
   "cell_type": "markdown",
   "metadata": {},
   "source": [
    "### RTF Framework\n",
    "**Components:** Role + Task + Format\n",
    "\n",
    "**Example Prompt:** \"Role: You are a senior QA engineer specializing in mobile testing. Task: Write 5 test cases for validating push notifications in an iOS app. Format: Use a table with columns for title, steps, and expected result.\"\n",
    "\n",
    "**Why it works:** The RTF framework emphasizes clarity and structure by immediately defining the perspective (role), the objective (task), and the output format. It minimizes ambiguity and ensures that the response is immediately useful, especially in collaborative test documentation."
   ]
  },
  {
   "cell_type": "markdown",
   "metadata": {},
   "source": [
    "### RACE Framework\n",
    "**Components:** Role + Action + Context + Expectation\n",
    "\n",
    "**Example Prompt:** \"Role: You are a manual QA tester. Action: Write a checklist for UI validation. Context: A new checkout page for an e-commerce website. Expectation: The checklist must cover layout consistency, responsiveness, and color contrast compliance.\"\n",
    "\n",
    "**Why it works:** The RACE framework provides clear direction through its structured breakdown of what needs to be done and under what conditions. It helps guide comprehensive outputs with a practical use case and expected boundaries, ensuring focused and high-utility results."
   ]
  },
  {
   "cell_type": "markdown",
   "metadata": {},
   "source": [
    "### CREATE Framework\n",
    "**Components:** Character + Request + Examples + Adjustment + Type of Output + Extras\n",
    "\n",
    "**Example Prompt:** \"Character: You are a test automation engineer. Request: Generate Selenium test scripts for form submission. Examples: Include one example of valid and one of invalid data. Adjustment: Focus on XPath selectors. Type of Output: Python code. Extras: Add short comments explaining each step.\"\n",
    "\n",
    "**Why it works:** The CREATE framework is highly detailed, supporting maximum control over output quality and scope. It is especially useful for technical tasks like automation, where nuanced guidance (e.g., selectors, languages, examples) results in more accurate and directly usable outputs."
   ]
  },
  {
   "cell_type": "markdown",
   "metadata": {},
   "source": [
    "## Key Takeaway\n",
    "\n",
    "If you understand the principles behind how frameworks are constructed, you can create your own based on them. You will be able to explore most of the well-known frameworks in the Prompt Engineering Handbook for Test Engineers."
   ]
  }
 ],
 "metadata": {
  "kernelspec": {
   "display_name": "Python 3",
   "language": "python",
   "name": "python3"
  },
  "language_info": {
   "codemirror_mode": {
    "name": "ipython",
    "version": 3
   },
   "file_extension": ".py",
   "mimetype": "text/x-python",
   "name": "python",
   "nbconvert_exporter": "python",
   "pygments_lexer": "ipython3",
   "version": "3.8.5"
  }
 },
 "nbformat": 4,
 "nbformat_minor": 4
}
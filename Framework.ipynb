{
 "cells": [
  {
   "cell_type": "markdown",
   "metadata": {},
   "source": [
    "# Prompting Frameworks: Complete Guide\n",
    "\n",
    "## What is a Framework in Prompting Context?\n",
    "\n",
    "A **framework** is a coordinated thinking system or set of principles + structure that helps create effective prompts for language models."
   ]
  },
  {
   "cell_type": "markdown",
   "metadata": {},
   "source": [
    "## Framework vs Concrete Template\n",
    "\n",
    "### 🔍 Template\n",
    "- **Fixed text** with specific formulations\n",
    "- Example: \"You are a QA analyst. Create a test case...\"\n",
    "\n",
    "### 🧠 Framework  \n",
    "- **Methodology for building templates**\n",
    "- A system of questions and principles for creating effective prompts"
   ]
  },
  {
   "cell_type": "markdown",
   "metadata": {},
   "source": [
    "## Key Framework Components\n",
    "\n",
    "| Component | Purpose |\n",
    "|-----------|----------|\n",
    "| 🎭 **Role** | Defines who performs the task (model persona) |\n",
    "| 🎯 **Goal** | What needs to be done |\n",
    "| 📦 **Context** | Where to get data/information for response |\n",
    "| 🚫 **Constraints** | What's not allowed or mandatory (scope, style, language) |\n",
    "| 📄 **Output Format** | How to format the response (table, JSON, list, steps, etc.) |\n",
    "| ⚙️ **Mechanics** | Techniques: clarifications, chain of thought, examples (few-shot) |"
   ]
  },
  {
   "cell_type": "markdown",
   "metadata": {},
   "source": [
    "## Popular Framework Examples\n",
    "\n",
    "There are currently over 30 of the most commonly used frameworks. However, they all follow the same underlying logic and structure."
   ]
  },
  {
   "cell_type": "markdown",
   "metadata": {},
   "source": [
    "### ReAct Framework\n",
    "**Components:** Reason + Act\n",
    "\n",
    "**Example Prompt:** \"You are troubleshooting a login failure. First, think aloud about potential causes (Reason). Then, write 3 test scenarios that would help isolate the issue (Act).\"\n",
    "\n",
    "**Why it works:** This framework promotes analytical thinking and connects theoretical understanding with practical testing actions, making it particularly valuable for debugging and root cause analysis."
   ]
  },
  {
   "cell_type": "code",
   "execution_count": null,
   "metadata": {},
   "source": [
    "# Example implementation of ReAct Framework\n",
    "def react_framework(problem, context=\"\"):\n",
    "    prompt = f\"\"\"\n",
    "    You are troubleshooting {problem}.\n",
    "    {context}\n",
    "    \n",
    "    First, think aloud about potential causes (Reason).\n",
    "    Then, write 3 test scenarios that would help isolate the issue (Act).\n",
    "    \"\"\"\n",
    "    return prompt.strip()\n",
    "\n",
    "# Test the function\n",
    "example_prompt = react_framework(\"a login failure\", \"Context: Web application with 2FA enabled\")\n",
    "print(example_prompt)"
   ],
   "outputs": []
  },
  {
   "cell_type": "markdown",
   "metadata": {},
   "source": [
    "### C.R.A.F.T. Framework\n",
    "**Components:** Context + Role + Action + Format + Target Audience\n",
    "\n",
    "**Example Prompt:** \"Context: A login system that supports 2FA Role: You are a senior manual tester Action: Write test scenarios for authentication flow Format: Markdown bullet points Target Audience: Junior QC engineers in training\"\n",
    "\n",
    "**Why it works:** The C.R.A.F.T. framework provides comprehensive context and clear role definition, resulting in highly relevant and appropriately formatted testing content."
   ]
  },
  {
   "cell_type": "code",
   "execution_count": null,
   "metadata": {},
   "source": [
    "# Example implementation of C.R.A.F.T. Framework\n",
    "def craft_framework(context, role, action, format_type, target_audience):\n",
    "    prompt = f\"\"\"\n",
    "    Context: {context}\n",
    "    Role: {role}\n",
    "    Action: {action}\n",
    "    Format: {format_type}\n",
    "    Target Audience: {target_audience}\n",
    "    \"\"\"\n",
    "    return prompt.strip()\n",
    "\n",
    "# Test the function\n",
    "example_craft = craft_framework(\n",
    "    context=\"A login system that supports 2FA\",\n",
    "    role=\"You are a senior manual tester\",\n",
    "    action=\"Write test scenarios for authentication flow\",\n",
    "    format_type=\"Markdown bullet points\",\n",
    "    target_audience=\"Junior QC engineers in training\"\n",
    ")\n",
    "print(example_craft)"
   ],
   "outputs": []
  },
  {
   "cell_type": "markdown",
   "metadata": {},
   "source": [
    "### RISEN Framework\n",
    "**Components:** Role + Instructions + Steps + Expectation + Narrowing\n",
    "\n",
    "**Example:** \"Role: You are a senior QC engineer specializing in user flows and edge-case analysis. Instructions: Generate a list of edge-case test scenarios for a password reset form in a banking web application. Steps: 1. Identify inputs typically used in password reset. 2. Consider unusual, invalid, or rare input values. 3. Describe what the system should do in response to each case. Expectation: The output should include at least 5 edge-case scenarios, each in bullet-point format with a short expected result. Narrowing: Exclude scenarios related to UI layout or styling. Focus only on input data, error handling, and backend validation.\"\n",
    "\n",
    "**Why it works:** The RISEN framework provides clear process guidance and scope definition, resulting in focused and immediately applicable testing scenarios."
   ]
  },
  {
   "cell_type": "code",
   "execution_count": null,
   "metadata": {},
   "source": [
    "# Example implementation of RISEN Framework\n",
    "def risen_framework(role, instructions, steps, expectation, narrowing):\n",
    "    prompt = f\"\"\"\n",
    "    Role: {role}\n",
    "    Instructions: {instructions}\n",
    "    Steps: {steps}\n",
    "    Expectation: {expectation}\n",
    "    Narrowing: {narrowing}\n",
    "    \"\"\"\n",
    "    return prompt.strip()\n",
    "\n",
    "# Test the function\n",
    "example_risen = risen_framework(\n",
    "    role=\"You are a senior QC engineer specializing in user flows and edge-case analysis\",\n",
    "    instructions=\"Generate a list of edge-case test scenarios for a password reset form in a banking web application\",\n",
    "    steps=\"1. Identify inputs typically used in password reset. 2. Consider unusual, invalid, or rare input values. 3. Describe what the system should do in response to each case\",\n",
    "    expectation=\"The output should include at least 5 edge-case scenarios, each in bullet-point format with a short expected result\",\n",
    "    narrowing=\"Exclude scenarios related to UI layout or styling. Focus only on input data, error handling, and backend validation\"\n",
    ")\n",
    "print(example_risen)"
   ],
   "outputs": []
  },
  {
   "cell_type": "markdown",
   "metadata": {},
   "source": [
    "### RTF Framework\n",
    "**Components:** Role + Task + Format\n",
    "\n",
    "**Example Prompt:** \"Role: You are a senior QA engineer specializing in mobile testing. Task: Write 5 test cases for validating push notifications in an iOS app. Format: Use a table with columns for title, steps, and expected result.\"\n",
    "\n",
    "**Why it works:** The RTF framework emphasizes clarity and structure by immediately defining the perspective (role), the objective (task), and the output format. It minimizes ambiguity and ensures that the response is immediately useful, especially in collaborative test documentation."
   ]
  },
  {
   "cell_type": "code",
   "execution_count": null,
   "metadata": {},
   "source": [
    "# Example implementation of RTF Framework\n",
    "def rtf_framework(role, task, format_type):\n",
    "    prompt = f\"\"\"\n",
    "    Role: {role}\n",
    "    Task: {task}\n",
    "    Format: {format_type}\n",
    "    \"\"\"\n",
    "    return prompt.strip()\n",
    "\n",
    "# Test the function\n",
    "example_rtf = rtf_framework(\n",
    "    role=\"You are a senior QA engineer specializing in mobile testing\",\n",
    "    task=\"Write 5 test cases for validating push notifications in an iOS app\",\n",
    "    format_type=\"Use a table with columns for title, steps, and expected result\"\n",
    ")\n",
    "print(example_rtf)"
   ],
   "outputs": []
  },
  {
   "cell_type": "markdown",
   "metadata": {},
   "source": [
    "### RACE Framework\n",
    "**Components:** Role + Action + Context + Expectation\n",
    "\n",
    "**Example Prompt:** \"Role: You are a manual QA tester. Action: Write a checklist for UI validation. Context: A new checkout page for an e-commerce website. Expectation: The checklist must cover layout consistency, responsiveness, and color contrast compliance.\"\n",
    "\n",
    "**Why it works:** The RACE framework provides clear direction through its structured breakdown of what needs to be done and under what conditions. It helps guide comprehensive outputs with a practical use case and expected boundaries, ensuring focused and high-utility results."
   ]
  },
  {
   "cell_type": "code",
   "execution_count": null,
   "metadata": {},
   "source": [
    "# Example implementation of RACE Framework\n",
    "def race_framework(role, action, context, expectation):\n",
    "    prompt = f\"\"\"\n",
    "    Role: {role}\n",
    "    Action: {action}\n",
    "    Context: {context}\n",
    "    Expectation: {expectation}\n",
    "    \"\"\"\n",
    "    return prompt.strip()\n",
    "\n",
    "# Test the function\n",
    "example_race = race_framework(\n",
    "    role=\"You are a manual QA tester\",\n",
    "    action=\"Write a checklist for UI validation\",\n",
    "    context=\"A new checkout page for an e-commerce website\",\n",
    "    expectation=\"The checklist must cover layout consistency, responsiveness, and color contrast compliance\"\n",
    ")\n",
    "print(example_race)"
   ],
   "outputs": []
  },
  {
   "cell_type": "markdown",
   "metadata": {},
   "source": [
    "### CREATE Framework\n",
    "**Components:** Character + Request + Examples + Adjustment + Type of Output + Extras\n",
    "\n",
    "**Example Prompt:** \"Character: You are a test automation engineer. Request: Generate Selenium test scripts for form submission. Examples: Include one example of valid and one of invalid data. Adjustment: Focus on XPath selectors. Type of Output: Python code. Extras: Add short comments explaining each step.\"\n",
    "\n",
    "**Why it works:** The CREATE framework is highly detailed, supporting maximum control over output quality and scope. It is especially useful for technical tasks like automation, where nuanced guidance (e.g., selectors, languages, examples) results in more accurate and directly usable outputs."
   ]
  },
  {
   "cell_type": "code",
   "execution_count": null,
   "metadata": {},
   "source": [
    "# Example implementation of CREATE Framework\n",
    "def create_framework(character, request, examples, adjustment, type_of_output, extras):\n",
    "    prompt = f\"\"\"\n",
    "    Character: {character}\n",
    "    Request: {request}\n",
    "    Examples: {examples}\n",
    "    Adjustment: {adjustment}\n",
    "    Type of Output: {type_of_output}\n",
    "    Extras: {extras}\n",
    "    \"\"\"\n",
    "    return prompt.strip()\n",
    "\n",
    "# Test the function\n",
    "example_create = create_framework(\n",
    "    character=\"You are a test automation engineer\",\n",
    "    request=\"Generate Selenium test scripts for form submission\",\n",
    "    examples=\"Include one example of valid and one of invalid data\",\n",
    "    adjustment=\"Focus on XPath selectors\",\n",
    "    type_of_output=\"Python code\",\n",
    "    extras=\"Add short comments explaining each step\"\n",
    ")\n",
    "print(example_create)"
   ],
   "outputs": []
  },
  {
   "cell_type": "markdown",
   "metadata": {},
   "source": [
    "## Framework Builder Class\n",
    "\n",
    "Let's create a universal framework builder that can help you construct prompts using the key components:"
   ]
  },
  {
   "cell_type": "code",
   "execution_count": null,
   "metadata": {},
   "source": [
    "class FrameworkBuilder:\n",
    "    def __init__(self):\n",
    "        self.components = {\n",
    "            'role': '',\n",
    "            'goal': '',\n",
    "            'context': '',\n",
    "            'constraints': '',\n",
    "            'output_format': '',\n",
    "            'mechanics': ''\n",
    "        }\n",
    "    \n",
    "    def set_role(self, role):\n",
    "        \"\"\"Define who performs the task (model persona)\"\"\"\n",
    "        self.components['role'] = role\n",
    "        return self\n",
    "    \n",
    "    def set_goal(self, goal):\n",
    "        \"\"\"What needs to be done\"\"\"\n",
    "        self.components['goal'] = goal\n",
    "        return self\n",
    "    \n",
    "    def set_context(self, context):\n",
    "        \"\"\"Where to get data/information for response\"\"\"\n",
    "        self.components['context'] = context\n",
    "        return self\n",
    "    \n",
    "    def set_constraints(self, constraints):\n",
    "        \"\"\"What's not allowed or mandatory (scope, style, language)\"\"\"\n",
    "        self.components['constraints'] = constraints\n",
    "        return self\n",
    "    \n",
    "    def set_output_format(self, output_format):\n",
    "        \"\"\"How to format the response (table, JSON, list, steps, etc.)\"\"\"\n",
    "        self.components['output_format'] = output_format\n",
    "        return self\n",
    "    \n",
    "    def set_mechanics(self, mechanics):\n",
    "        \"\"\"Techniques: clarifications, chain of thought, examples (few-shot)\"\"\"\n",
    "        self.components['mechanics'] = mechanics\n",
    "        return self\n",
    "    \n",
    "    def build(self):\n",
    "        \"\"\"Generate the final prompt\"\"\"\n",
    "        prompt_parts = []\n",
    "        \n",
    "        if self.components['role']:\n",
    "            prompt_parts.append(f\"Role: {self.components['role']}\")\n",
    "        \n",
    "        if self.components['goal']:\n",
    "            prompt_parts.append(f\"Goal: {self.components['goal']}\")\n",
    "        \n",
    "        if self.components['context']:\n",
    "            prompt_parts.append(f\"Context: {self.components['context']}\")\n",
    "        \n",
    "        if self.components['constraints']:\n",
    "            prompt_parts.append(f\"Constraints: {self.components['constraints']}\")\n",
    "        \n",
    "        if self.components['output_format']:\n",
    "            prompt_parts.append(f\"Output Format: {self.components['output_format']}\")\n",
    "        \n",
    "        if self.components['mechanics']:\n",
    "            prompt_parts.append(f\"Mechanics: {self.components['mechanics']}\")\n",
    "        \n",
    "        return '\\n'.join(prompt_parts)\n",
    "    \n",
    "    def reset(self):\n",
    "        \"\"\"Reset all components\"\"\"\n",
    "        for key in self.components:\n",
    "            self.components[key] = ''\n",
    "        return self"
   ],
   "outputs": []
  },
  {
   "cell_type": "markdown",
   "metadata": {},
   "source": [
    "## Testing the Framework Builder"
   ]
  },
  {
   "cell_type": "code",
   "execution_count": null,
   "metadata": {},
   "source": [
    "# Example 1: QA Testing Prompt\n",
    "builder = FrameworkBuilder()\n",
    "\n",
    "qa_prompt = (builder\n",
    "    .set_role(\"You are a senior QA engineer with 5+ years of experience in web testing\")\n",
    "    .set_goal(\"Create comprehensive test cases for a user registration form\")\n",
    "    .set_context(\"E-commerce website registration form with email, password, confirm password, and terms acceptance\")\n",
    "    .set_constraints(\"Focus on functional testing only, exclude performance testing\")\n",
    "    .set_output_format(\"Table format with columns: Test Case ID, Description, Steps, Expected Result\")\n",
    "    .set_mechanics(\"Include both positive and negative test scenarios\")\n",
    "    .build())\n",
    "\n",
    "print(\"QA Testing Prompt:\")\n",
    "print(qa_prompt)\n",
    "print(\"\\n\" + \"=\"*50 + \"\\n\")"
   ],
   "outputs": []
  },
  {
   "cell_type": "code",
   "execution_count": null,
   "metadata": {},
   "source": [
    "# Example 2: Code Review Prompt\n",
    "builder.reset()\n",
    "\n",
    "code_review_prompt = (builder\n",
    "    .set_role(\"You are a senior software engineer specializing in Python and code quality\")\n",
    "    .set_goal(\"Review the provided code for potential issues and improvements\")\n",
    "    .set_context(\"Python function for user authentication in a web application\")\n",
    "    .set_constraints(\"Focus on security, performance, and maintainability. Limit response to 300 words\")\n",
    "    .set_output_format(\"Structured feedback with sections: Issues Found, Recommendations, Improved Code Example\")\n",
    "    .set_mechanics(\"Explain the reasoning behind each recommendation\")\n",
    "    .build())\n",
    "\n",
    "print(\"Code Review Prompt:\")\n",
    "print(code_review_prompt)\n",
    "print(\"\\n\" + \"=\"*50 + \"\\n\")"
   ],
   "outputs": []
  },
  {
   "cell_type": "code",
   "execution_count": null,
   "metadata": {},
   "source": [
    "# Example 3: API Documentation Prompt\n",
    "builder.reset()\n",
    "\n",
    "api_doc_prompt = (builder\n",
    "    .set_role(\"You are a technical writer specializing in API documentation\")\n",
    "    .set_goal(\"Write clear API documentation for a REST endpoint\")\n",
    "    .set_context(\"POST /api/users endpoint for creating new user accounts\")\n",
    "    .set_constraints(\"Use clear, beginner-friendly language. Include authentication requirements\")\n",
    "    .set_output_format(\"Standard API documentation format with sections: Description, Parameters, Request Example, Response Example, Error Codes\")\n",
    "    .set_mechanics(\"Provide practical examples that developers can copy and use\")\n",
    "    .build())\n",
    "\n",
    "print(\"API Documentation Prompt:\")\n",
    "print(api_doc_prompt)"
   ],
   "outputs": []
  },
  {
   "cell_type": "markdown",
   "metadata": {},
   "source": [
    "## Key Takeaway\n",
    "\n",
    "If you understand the principles behind how frameworks are constructed, you can create your own based on them. You will be able to explore most of the well-known frameworks in the Prompt Engineering Handbook for Test Engineers.\n",
    "\n",
    "### Benefits of Using Frameworks:\n",
    "- **Consistency**: Ensures reliable prompt quality across different use cases\n",
    "- **Efficiency**: Reduces time spent crafting prompts from scratch\n",
    "- **Scalability**: Easy to adapt and reuse for similar tasks\n",
    "- **Clarity**: Provides clear structure for both humans and AI models\n",
    "\n",
    "### Tips for Creating Your Own Frameworks:\n",
    "1. Start with the 6 key components (Role, Goal, Context, Constraints, Output Format, Mechanics)\n",
    "2. Identify patterns in your most successful prompts\n",
    "3. Test and iterate based on results\n",
    "4. Document what works for future reference\n",
    "5. Share successful frameworks with your team"
   ]
  }
 ],
 "metadata": {
  "kernelspec": {
   "display_name": "Python 3",
   "language": "python",
   "name": "python3"
  },
  "language_info": {
   "codemirror_mode": {
    "name": "ipython",
    "version": 3
   },
   "file_extension": ".py",
   "mimetype": "text/x-python",
   "name": "python",
   "nbconvert_exporter": "python",
   "pygments_lexer": "ipython3",
   "version": "3.8.5"
  }
 },
 "nbformat": 4,
 "nbformat_minor": 4
}
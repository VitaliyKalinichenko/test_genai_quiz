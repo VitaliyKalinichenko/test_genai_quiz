{
 "cells": [
  {
   "cell_type": "markdown",
   "id": "bbd34ac5",
   "metadata": {},
   "source": [
    "# 🧪 Prompt Engineering Quiz for Software Testers\n",
    "This interactive notebook contains 5 tasks. Each task has two multiple-choice questions. Read the task, then select or type the correct answers."
   ]
  },
  {
   "cell_type": "markdown",
   "id": "8119731b",
   "metadata": {},
   "source": [
    "## 1️⃣ Task 1: Improve the prompt\n",
    "\n",
    "Rewrite the following prompt to make it clearer, better structured, and with a specific instruction.\n",
    "\n",
    "**Original Prompt:**\n",
    "> “Make me test cases for the login page”\n",
    "\n",
    "**Improved Prompt:**\n",
    "> “Based on the following User Story, __1__ 5 functional test cases (both ___2____ ) for the login page”\n",
    "\n",
    "**User Story:** As a user, I want to be able to log in using my email and password so that I can access my personal account."
   ]
  },
  {
   "cell_type": "markdown",
   "id": "f040bfa0",
   "metadata": {},
   "source": [
    "**1. Choose the best verb to complete the sentence.**\n",
    "\n",
    "Options:\n",
    "- A) Make\n",
    "- B) Rewrite\n",
    "- C) Generate"
   ]
  },
  {
   "cell_type": "markdown",
   "id": "5139bcda",
   "metadata": {},
   "source": [
    "**2. Choose the correct type of test cases.**\n",
    "\n",
    "Options:\n",
    "- A) positive and negative\n",
    "- B) new and old\n",
    "- C) good and bad"
   ]
  },
  {
   "cell_type": "markdown",
   "id": "d661fba8",
   "metadata": {},
   "source": [
    "## 2️⃣ Task 2: Prompt with table format\n",
    "\n",
    "Create a prompt that asks GenAI to:\n",
    "- generate 3 test cases\n",
    "- return the result in a table format with the following columns: ID, Title, Steps, Expected Result.\n",
    "\n",
    "**Prompt:**\n",
    "> 'Generate 3 __1__ for the user login page. Please provide the __2__ in table format with the following columns: ID, Test Title, Steps to Execute, Expected Result.'"
   ]
  },
  {
   "cell_type": "markdown",
   "id": "c80bd292",
   "metadata": {},
   "source": [
    "**1. What should be generated?**\n",
    "\n",
    "Options:\n",
    "- A) test objectives\n",
    "- B) test cases\n",
    "- C) use cases"
   ]
  },
  {
   "cell_type": "markdown",
   "id": "8661ab2b",
   "metadata": {},
   "source": [
    "**2. What should be provided in table format?**\n",
    "\n",
    "Options:\n",
    "- A) thoughts\n",
    "- B) output\n",
    "- C) ideas"
   ]
  },
  {
   "cell_type": "markdown",
   "id": "2f979074",
   "metadata": {},
   "source": [
    "## 3️⃣ Task 3: Prompt for comparing user stories\n",
    "\n",
    "Write a prompt that allows GenAI to compare two versions of a User Story and determine which one is better in terms of testability and clarity.\n",
    "\n",
    "**Prompt:**\n",
    "> 'Analyze the following two User Story versions and indicate which one is clearer and more suitable for test case __1__. Explain your reasoning. ___2___ step by step.'"
   ]
  },
  {
   "cell_type": "markdown",
   "id": "c8f51fbf",
   "metadata": {},
   "source": [
    "**1. What is the purpose of comparing stories?**\n",
    "\n",
    "Options:\n",
    "- A) ideas\n",
    "- B) vision\n",
    "- C) generation"
   ]
  },
  {
   "cell_type": "markdown",
   "id": "2fcb0d0d",
   "metadata": {},
   "source": [
    "**2. How should GenAI explain?**\n",
    "\n",
    "Options:\n",
    "- A) Go\n",
    "- B) Run\n",
    "- C) Think"
   ]
  },
  {
   "cell_type": "markdown",
   "id": "d554cc29",
   "metadata": {},
   "source": [
    "## 4️⃣ Task 4: Improve a weak prompt\n",
    "\n",
    "You are given a weak prompt. Improve it to make the request more specific and informative.\n",
    "\n",
    "**Weak prompt:**\n",
    "> 'Write me test cases for my user story'\n",
    "\n",
    "**Improved Prompt:**\n",
    "> 'Instead of ‘Write me test cases for my user story’, ___1___: ‘Based on the following User Story, generate 5 functional test cases in the ___2___: Title, Steps, Expected Result.'"
   ]
  },
  {
   "cell_type": "markdown",
   "id": "dbb609ff",
   "metadata": {},
   "source": [
    "**1. Which instruction improves the prompt?**\n",
    "\n",
    "Options:\n",
    "- A) use\n",
    "- B) remove\n",
    "- C) think"
   ]
  },
  {
   "cell_type": "markdown",
   "id": "7b2d2d3b",
   "metadata": {},
   "source": [
    "**2. What should be specified?**\n",
    "\n",
    "Options:\n",
    "- 1) section\n",
    "- 2) format\n",
    "- 3) prompt"
   ]
  },
  {
   "cell_type": "markdown",
   "id": "6d7748c1",
   "metadata": {},
   "source": [
    "## 5️⃣ Task 5: Use the CRAFT framework\n",
    "\n",
    "Fill in the blanks to construct a complete prompt using the CRAFT framework.\n",
    "\n",
    "**Prompt:**\n",
    "> Context: There is a need to create test cases for login functionality.\n",
    "> Role: _____1_____\n",
    "> Action: Generate 5 functional test cases (both negative and positive)\n",
    "> Format: ___2___\n",
    "> Target Audience: software test engineers."
   ]
  },
  {
   "cell_type": "markdown",
   "id": "fc4e3ec1",
   "metadata": {},
   "source": [
    "**1. Who should perform the action?**\n",
    "\n",
    "Options:\n",
    "- A) You are a prompt engineer\n",
    "- B) You are a senior QC engineer\n",
    "- C) You are the best"
   ]
  },
  {
   "cell_type": "markdown",
   "id": "159019bf",
   "metadata": {},
   "source": [
    "**2. In which format should the cases be presented?**\n",
    "\n",
    "Options:\n",
    "- A) Table\n",
    "- 2) Interview\n",
    "- 3) mp3"
   ]
  },
  {
   "cell_type": "markdown",
   "id": "c27ebc04",
   "metadata": {},
   "source": [
    "---\n",
    "To check student answers, manually compare them to the correct choices defined in your instructor key."
   ]
  }
 ],
 "metadata": {},
 "nbformat": 4,
 "nbformat_minor": 5
}

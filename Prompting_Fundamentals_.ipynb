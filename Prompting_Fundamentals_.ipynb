{
 "cells": [
  {
   "cell_type": "markdown",
   "id": "871bb820",
   "metadata": {},
   "source": [
    "# PROMPTING FUNDAMENTALS - Resource Links"
   ]
  },
  {
   "cell_type": "markdown",
   "id": "d20915df",
   "metadata": {},
   "source": [
    "- [Prompt Engineering Tutorial – Master ChatGPT and LLM Responses](https://www.youtube.com/watch?v=_ZvnD73m40o) — *Part of Curriculum*"
   ]
  },
  {
   "cell_type": "markdown",
   "id": "3ba8440f",
   "metadata": {},
   "source": [
    "- [Introduction to prompt engineering from OpenAI](https://academy.openai.com/public/videos/introduction-to-prompt-engineering-2025-02-13) — *Part of Curriculum*"
   ]
  },
  {
   "cell_type": "markdown",
   "id": "fe52c0cd",
   "metadata": {},
   "source": [
    "- [Advanced prompt engineering](https://academy.openai.com/home/videos/advanced-prompt-engineering-2025-02-13) — *Part of Curriculum*"
   ]
  },
  {
   "cell_type": "markdown",
   "id": "6ede3c15",
   "metadata": {},
   "source": [
    "- [Handbook](http://bit.ly/4n5CKPJ) — *Actual sections: 5,6,7 (techniques and frameworks)*"
   ]
  },
  {
   "cell_type": "markdown",
   "id": "7bc5e830",
   "metadata": {},
   "source": [
    "- [Prompts (basic)](https://github.com/VitaliyKalinichenko/test_genai_quiz/blob/main/Prompt.ipynb)"
   ]
  },
  {
   "cell_type": "markdown",
   "id": "77d2bbc9",
   "metadata": {},
   "source": [
    "- [Frameworks (basic)](https://github.com/VitaliyKalinichenko/test_genai_quiz/blob/main/Framework.ipynb)"
   ]
  },
  {
   "cell_type": "markdown",
   "id": "83e03393",
   "metadata": {},
   "source": [
    "- [Deep research, reasoning, fine tuning, models](https://www.promptingguide.ai) — *Optional*"
   ]
  },
  {
   "cell_type": "markdown",
   "id": "bfb0265f",
   "metadata": {},
   "source": [
    "- [Prompt Library](https://docs.anthropic.com/en/resources/prompt-library/library) — *Optional*"
   ]
  }
 ],
 "metadata": {},
 "nbformat": 4,
 "nbformat_minor": 5
}
